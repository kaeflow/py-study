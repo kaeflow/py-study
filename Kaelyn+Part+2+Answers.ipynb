{
 "cells": [
  {
   "cell_type": "markdown",
   "metadata": {},
   "source": [
    "# Part II: Types and Operations"
   ]
  },
  {
   "cell_type": "markdown",
   "metadata": {},
   "source": [
    "## Quiz Answers"
   ]
  },
  {
   "cell_type": "markdown",
   "metadata": {},
   "source": [
    "### Chapter 4: Introducing Python Object Types\n",
    "1. Integers, strings, lists, and files.\n",
    "2. They are so called because they are built into the language, *i.e.* nothing needs to be imported to use them.\n",
    "3. Immutable types cannot be changed \"in-place,\" meaning that variables corresponding to an instance must be assigned new values, rather than *e.g.* using a method. Strings, tuples, and frozen sets are immutable.\n",
    "4. A sequence is a data type that contains items in a certain order. The core sequence types are `str`, `list`, and `tuple`.\n",
    "5. A mapping consists of items that are retrievable with a key, where a key can be any hashable object (usually a string or number). The core mapping type is `dict`.\n",
    "6. Polymorphism is a feature of a language, and also code written in it, to be able to work with inputs of as wide a range of types possible, as long as that type would make sense in the context. For example, a function that accepts any iterable object as an argument displays polymorphism. Polymorphism allows flexibility of code across different use cases, and increases compatibility with 3rd party modules that implement their own classes."
   ]
  },
  {
   "cell_type": "markdown",
   "metadata": {
    "collapsed": true
   },
   "source": [
    "### Chapter 5: Numbers\n",
    "1. `14`\n",
    "2. `10`\n",
    "3. `14`\n",
    "4. You can use the core language's power operator/function (*i.e.* `pow` or `**`), the `math` standard library module's `math.pow` and `math.sqrt` functions, or the `numpy` module's `numpy.pow` or `numpy.sqrt` functions. So  \n",
    "   >`pow(x, 2)`  \n",
    "   >`x ** 2`  \n",
    "   >`math.pow(x, 2)`  \n",
    "   >`numpy.pow(x, 2)`  \n",
    "   \n",
    "   all return $x^2$, and \n",
    "   >`pow(x, 0.5)`  \n",
    "   >`x ** 0.5`  \n",
    "   >`math.sqrt(x)`  \n",
    "   >`numpy.sqrt(x)`  \n",
    "   \n",
    "   all return $\\sqrt{x}$.\n",
    "5. A `float`, since python converts types 'upwards,' *i.e.* to the type that can represent all operands.\n",
    "6. With `math.trunc()` and `round()`, respectively.\n",
    "7. Using the function form of floats, `float()`.\n",
    "8. <span style=\"color:DarkRed\">[Had to check]</span> The `oct()` and `hex()` functions.\n",
    "9. Given `num_string` representing a number in octal/hexidecimal, use `int(num_string)`."
   ]
  },
  {
   "cell_type": "markdown",
   "metadata": {},
   "source": [
    "### Chapter 6: The Dynamic Typing Interlude\n",
    "1. No, since strings are immutable.\n",
    "2. Yes, because lists are immutable, so assigning a list-valued variable to a second variable means the second refers to the same memory location as the first.\n",
    "3. No, because slicing returns a new copy of the sliced range."
   ]
  }
 ],
 "metadata": {
  "kernelspec": {
   "display_name": "Python 3",
   "language": "python",
   "name": "python3"
  },
  "language_info": {
   "codemirror_mode": {
    "name": "ipython",
    "version": 3
   },
   "file_extension": ".py",
   "mimetype": "text/x-python",
   "name": "python",
   "nbconvert_exporter": "python",
   "pygments_lexer": "ipython3",
   "version": "3.6.1"
  },
  "latex_envs": {
   "LaTeX_envs_menu_present": true,
   "autocomplete": true,
   "bibliofile": "biblio.bib",
   "cite_by": "apalike",
   "current_citInitial": 1,
   "eqLabelWithNumbers": true,
   "eqNumInitial": 1,
   "hotkeys": {
    "equation": "Ctrl-E",
    "itemize": "Ctrl-I"
   },
   "labels_anchors": false,
   "latex_user_defs": false,
   "report_style_numbering": false,
   "user_envs_cfg": false
  }
 },
 "nbformat": 4,
 "nbformat_minor": 2
}
